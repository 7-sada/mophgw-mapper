{
 "cells": [
  {
   "cell_type": "code",
   "execution_count": 4,
   "metadata": {},
   "outputs": [],
   "source": [
    "from minio import Minio\n",
    "from minio.error import S3Error\n",
    "import json\n"
   ]
  },
  {
   "cell_type": "code",
   "execution_count": 19,
   "metadata": {},
   "outputs": [],
   "source": [
    "with open(\"./credentials.json\") as r:\n",
    "  config = json.loads(r.read())\n",
    "\n",
    "# print(config)\n",
    "client = Minio(\n",
    "  \"api-minio.moph.go.th:9990\",\n",
    "  access_key=config[\"accessKey\"],\n",
    "  secret_key=config[\"secretKey\"]\n",
    ")\n",
    "\n",
    "# buckets = client.list_buckets()\n",
    "# for bucket in buckets:\n",
    "  # print(\"Bucket name: \" + bucket)\n"
   ]
  },
  {
   "cell_type": "code",
   "execution_count": null,
   "metadata": {},
   "outputs": [],
   "source": [
    "def main():\n",
    "  with open(\"./credentials.json\") as r:\n",
    "    config = json.loads(r.read())\n",
    "  \n",
    "  # print(config)\n",
    "  client = Minio(\n",
    "    \"api-minio.moph.go.th:9990\",\n",
    "    access_key=config[\"accessKey\"],\n",
    "    secret_key=config[\"secretKey\"]\n",
    "  )\n",
    "\n",
    "  buckets = client.list_buckets()\n",
    "  for bucket in buckets:\n",
    "    print(\"Bucket name: \" + bucket)\n",
    "\n",
    "if __name__ == \"__main__\":\n",
    "  main()\n",
    "\n"
   ]
  },
  {
   "cell_type": "code",
   "execution_count": null,
   "metadata": {},
   "outputs": [],
   "source": []
  }
 ],
 "metadata": {
  "kernelspec": {
   "display_name": "Python 3.11.0 64-bit",
   "language": "python",
   "name": "python3"
  },
  "language_info": {
   "codemirror_mode": {
    "name": "ipython",
    "version": 3
   },
   "file_extension": ".py",
   "mimetype": "text/x-python",
   "name": "python",
   "nbconvert_exporter": "python",
   "pygments_lexer": "ipython3",
   "version": "3.11.0"
  },
  "orig_nbformat": 4,
  "vscode": {
   "interpreter": {
    "hash": "d77ef924f8ad6fc8c56e5c39c18b702d3a67279bc80c0560c32d37a92ef9e6a7"
   }
  }
 },
 "nbformat": 4,
 "nbformat_minor": 2
}
