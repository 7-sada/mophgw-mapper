{
 "cells": [
  {
   "cell_type": "markdown",
   "metadata": {},
   "source": [
    "## Import library"
   ]
  },
  {
   "cell_type": "code",
   "execution_count": 112,
   "metadata": {},
   "outputs": [],
   "source": [
    "import pandas as pd\n",
    "import httpx\n",
    "import json\n",
    "import gzip\n",
    "import string\n",
    "import datetime\n",
    "import random"
   ]
  },
  {
   "cell_type": "markdown",
   "metadata": {},
   "source": [
    "## Set option pandas"
   ]
  },
  {
   "cell_type": "code",
   "execution_count": 113,
   "metadata": {},
   "outputs": [],
   "source": [
    "pd.options.mode.use_inf_as_na = True\n",
    "pd.set_option('display.max_rows', 50)\n",
    "pd.set_option('display.max_columns', 500)\n",
    "pd.set_option('display.width', 1000)\n"
   ]
  },
  {
   "cell_type": "markdown",
   "metadata": {},
   "source": [
    "## Read configuration"
   ]
  },
  {
   "cell_type": "code",
   "execution_count": 114,
   "metadata": {},
   "outputs": [],
   "source": [
    "with open(\"./credentials.json\") as r:\n",
    "    config = json.loads(r.read())\n",
    "minio_config = dict(\n",
    "    key=config[\"accessKey\"],\n",
    "    secret=config[\"secretKey\"],\n",
    "    client_kwargs={\n",
    "        'endpoint_url': config[\"url\"]\n",
    "    }\n",
    ")\n",
    "\n",
    "with open(\"./api_config.json\") as r:\n",
    "    config = json.loads(r.read())\n",
    "api_config = dict(\n",
    "    url=config[\"url\"],\n",
    "    token=config[\"token\"],\n",
    ")"
   ]
  },
  {
   "cell_type": "markdown",
   "metadata": {},
   "source": [
    "## Function call api"
   ]
  },
  {
   "cell_type": "code",
   "execution_count": 115,
   "metadata": {},
   "outputs": [],
   "source": [
    "def get_process(httpx, url, headers, topic):\n",
    "  url = url + f\"?topic={topic}\"\n",
    "  with httpx.Client() as client:\n",
    "    r = client.get(url=url, headers=headers)\n",
    "    json = r.json()\n",
    "  if json[\"ok\"] == True and len(json[\"rows\"]) != 0:\n",
    "    return json[\"rows\"]\n",
    "  else:\n",
    "    return {}\n",
    "\n",
    "\n",
    "def set_process(httpx, url, headers, process_id, status):\n",
    "  url = url + \"/status\"\n",
    "  headers[\"Content-Type\"] = \"application/x-www-form-urlencoded\"\n",
    "  data = f\"processId={process_id}&status={status}\"\n",
    "  with httpx.Client() as client:\n",
    "    r = client.put(url=url, headers=headers, data=data)\n",
    "    json = r.json()\n",
    "  if (json[\"ok\"] == True):\n",
    "    return json\n",
    "  else:\n",
    "    return {}"
   ]
  },
  {
   "cell_type": "markdown",
   "metadata": {},
   "source": [
    "## Get process from api"
   ]
  },
  {
   "cell_type": "code",
   "execution_count": 116,
   "metadata": {},
   "outputs": [
    {
     "data": {
      "text/plain": [
       "{'process_id': '258d59e1-78c5-4aea-be8c-164c5489fb5b',\n",
       " 'hospcode': '41124',\n",
       " 'status': 'PROCESS',\n",
       " 'topic': 'appointment',\n",
       " 'path': 'upload/41124/appointment/258d59e1-78c5-4aea-be8c-164c5489fb5b'}"
      ]
     },
     "metadata": {},
     "output_type": "display_data"
    }
   ],
   "source": [
    "# topic = \"service_opd_screening\"\n",
    "topic = \"appointment\"\n",
    "url = api_config[\"url\"]\n",
    "token = api_config[\"token\"]\n",
    "headers = {\"Authorization\": \"Bearer \" + token}\n",
    "r = get_process(httpx=httpx, url=url, headers=headers, topic=topic)\n",
    "\n",
    "display(r)"
   ]
  },
  {
   "cell_type": "markdown",
   "metadata": {},
   "source": [
    "## Set parameter after call api"
   ]
  },
  {
   "cell_type": "code",
   "execution_count": 117,
   "metadata": {},
   "outputs": [],
   "source": [
    "hospcode = r[\"hospcode\"]\n",
    "process_id = r[\"process_id\"]\n",
    "source_path = \"s3://mophgw/{}\".format(r[\"path\"])\n",
    "destination_path = \"s3://phr/{}\".format(r[\"path\"])\n",
    "local_code_path = \"s3://mapcode/{}/localcode\".format(hospcode)\n",
    "std_code_path = \"s3://mapcode/{}/stdcode\".format(hospcode)"
   ]
  },
  {
   "cell_type": "markdown",
   "metadata": {},
   "source": [
    "## function to read_csv\n"
   ]
  },
  {
   "cell_type": "code",
   "execution_count": 118,
   "metadata": {},
   "outputs": [],
   "source": [
    "def read_csv(path: str = \"\", filename: str = \"\", is_prefix: bool = True, prefix_type: str = \"\"):\n",
    "  df = pd.read_csv(f\"{path}/{filename}\", engine=\"c\",\n",
    "              dtype=\"str\", storage_options=minio_config)\n",
    "  if is_prefix:\n",
    "    prefix = filename.removesuffix(\".csv.gz\")\n",
    "    if prefix_type == \"local\":\n",
    "      df = df.add_prefix(f\"_{prefix}_local\")\n",
    "    elif prefix_type == \"std\":\n",
    "      df = df.add_prefix(f\"_{prefix}_\")\n",
    "  return df"
   ]
  },
  {
   "cell_type": "markdown",
   "metadata": {},
   "source": [
    "## load transaction file to dataframe\n",
    "- person"
   ]
  },
  {
   "cell_type": "code",
   "execution_count": 119,
   "metadata": {},
   "outputs": [],
   "source": [
    "person = read_csv(path=source_path, filename=\"person.csv.gz\",is_prefix=False)"
   ]
  },
  {
   "cell_type": "markdown",
   "metadata": {},
   "source": [
    "## load localcode files to dataframe\n",
    "- title, gender, rh_blood_group, blood_group, nationality, marital_status, occupation"
   ]
  },
  {
   "cell_type": "code",
   "execution_count": null,
   "metadata": {},
   "outputs": [],
   "source": [
    "local_config = [\"blood_group\", \"gender\", \"marital_status\",\n",
    "                \"nationality\", \"rh_blood_group\", \"title\"]\n",
    "local_df = dict()\n",
    "for k in local_config:\n",
    "  local_df[k] = read_csv(path=local_code_path, filename=k +\n",
    "                         \".csv.gz\", is_prefix=True, prefix_type=\"local\")\n",
    "  display(local_df[k])"
   ]
  },
  {
   "cell_type": "markdown",
   "metadata": {},
   "source": [
    "## load stdcode file to dataframe\n",
    "- title, gender, rh_blood_group, blood_group, nationality, marital_status, occupation"
   ]
  },
  {
   "cell_type": "code",
   "execution_count": null,
   "metadata": {},
   "outputs": [],
   "source": [
    "# std_config = [\"blood_group\", \"gender\", \"marital_status\",\n",
    "#               \"nationality\", \"rh_blood_group\", \"title\"]\n",
    "std_config = dict(\n",
    "    blood_group=[\"blood_group\", \"blood_groups\"],\n",
    "    gender = [\"gender\",\"genders\"], \n",
    "    marital_status = [\"marital_status\",\"marital_statuses\"],\n",
    "    nationality = [\"nationality\",\"nationalities\"], \n",
    "    rh_blood_group = [\"rh_blood_group\",\"rh_blood_groups\"], \n",
    "    title = [\"title\",\"titles\"]\n",
    ")\n",
    "std_df = dict()\n",
    "for k, v in std_config.items():\n",
    "  std_df[k] = read_csv(path=std_code_path, filename=v[1] + \".csv.gz\", is_prefix=True, prefix_type=\"std\")\n",
    "  display(std_df[k])"
   ]
  },
  {
   "cell_type": "markdown",
   "metadata": {},
   "source": [
    "## merge localcode to person"
   ]
  },
  {
   "cell_type": "code",
   "execution_count": null,
   "metadata": {},
   "outputs": [],
   "source": [
    "person_merge_local = dict(\n",
    "  title = [\"title_code\",\"_title_localcode\"],\n",
    "  gender = [\"gender\",\"_gender_localcode\"],\n",
    "  rh_blood_group = [\"rh_blood_group\", \"_rh_blood_group_localcode\"],\n",
    "  blood_group = [\"blood_group\",\"_blood_group_localcode\"],\n",
    "  nationality = [\"nationality_code\",\"_nationality_localcode\"],\n",
    "  marital_status = [\"marital_status\",\"_marital_status_localcode\"],\n",
    ")\n",
    "for k, v in person_merge_local.items():\n",
    "  person = pd.merge(\n",
    "      person, local_df[k], how=\"left\", left_on=v[0], right_on=v[1])\n",
    "\n",
    "display(person)"
   ]
  },
  {
   "cell_type": "markdown",
   "metadata": {},
   "source": [
    "## merge stdcode to person"
   ]
  },
  {
   "cell_type": "code",
   "execution_count": null,
   "metadata": {},
   "outputs": [],
   "source": [
    "person_merge_std = dict(\n",
    "    title=[\"_title_localcode\", \"_titles_localcode\"],\n",
    "    gender=[\"_gender_localcode\", \"_genders_localcode\"],\n",
    "    rh_blood_group=[\"_rh_blood_group_localcode\", \"_rh_blood_groups_localcode\"],\n",
    "    blood_group=[\"_blood_group_localcode\", \"_blood_groups_localcode\"],\n",
    "    nationality=[\"_nationality_localcode\", \"_nationalities_localcode\"],\n",
    "    marital_status=[\"_marital_status_localcode\", \"_marital_statuses_localcode\"],\n",
    ")\n",
    "for k, v in person_merge_std.items():\n",
    "    person = pd.merge(person, std_df[k], how=\"left\", left_on=f\"{v[0]}\", right_on=f\"{v[1]}\")\n",
    "    # person = person.drop_duplicates(subset=[\"cid\"])\n",
    "display(person)"
   ]
  },
  {
   "cell_type": "markdown",
   "metadata": {},
   "source": [
    "## rename columns"
   ]
  },
  {
   "cell_type": "code",
   "execution_count": null,
   "metadata": {},
   "outputs": [],
   "source": [
    "person = person[[\n",
    "    \"cid\", \"hn\",\n",
    "    \"_local_title_code\", \"_local_title_name\", \"_title_stdcode\", \"_title_stdname_th\", \"_title_stdname_en\",\n",
    "    \"first_name\", \"middle_name\", \"last_name\", \"birthdate\",\n",
    "    \"_local_gender_code\", \"_local_gender_name\", \"_gender_stdcode\", \"_gender_stdname_th\", \"_gender_stdname_en\",\n",
    "    \"_local_rh_blood_group_code\", \"_local_rh_blood_group_name\", \"_rh_blood_group_stdcode\", \"_rh_blood_group_stdname_th\", \"_rh_blood_group_stdname_en\",\n",
    "    \"_local_nationality_code\", \"_local_nationality_name\", \"_nationality_stdcode\", \"_nationality_stdname_th\", \"_nationality_stdname_en\",\n",
    "    \"_local_marital_status_code\", \"_local_marital_status_name\", \"_marital_status_stdcode\", \"_marital_status_stdname_th\", \"_marital_status_stdname_en\",\n",
    "    \"_local_occupation_code\", \"_local_occupation_name\", \"_occupation_stdcode\", \"_occupation_stdname_th\", \"_occupation_stdname_en\",\n",
    "]]\n",
    "person.columns = [\n",
    "    \"cid\", \"hn\",\n",
    "    \"local_title_code\", \"local_title_name\", \"std_title_code\", \"std_title_name_th\", \"std_title_name_en\",\n",
    "    \"first_name\", \"middle_name\", \"last_name\", \"birthdate\",\n",
    "    \"local_gender_code\", \"local_gender_name\", \"std_gender_code\", \"std_gender_name_th\", \"std_gender_name_en\",\n",
    "    \"local_rh_blood_group_code\", \"local_rh_blood_group_name\", \"std_rh_blood_group_code\", \"std_rh_blood_group_name_th\", \"std_rh_blood_group_name_en\",\n",
    "    \"local_nationality_code\", \"local_nationality_name\", \"std_nationality_code\", \"std_nationality_name_th\", \"std_nationality_name_en\",\n",
    "    \"local_marital_status_code\", \"local_marital_status_name\", \"std_marital_status_code\", \"std_marital_status_name_th\", \"std_marital_status_name_en\",\n",
    "    \"local_occupation_code\", \"local_occupation_name\", \"std_occupation_code\", \"std_occupation_name_th\", \"std_occupation_name_en\",\n",
    "]\n"
   ]
  },
  {
   "cell_type": "code",
   "execution_count": 124,
   "metadata": {},
   "outputs": [],
   "source": [
    "# with open(\"./person_config.json\", \"w\") as fw:\n",
    "#   fw.write(json.dumps(dict(std=person_merge_std, local=person_merge_local)))"
   ]
  }
 ],
 "metadata": {
  "kernelspec": {
   "display_name": "Python 3.11.0 64-bit",
   "language": "python",
   "name": "python3"
  },
  "language_info": {
   "codemirror_mode": {
    "name": "ipython",
    "version": 3
   },
   "file_extension": ".py",
   "mimetype": "text/x-python",
   "name": "python",
   "nbconvert_exporter": "python",
   "pygments_lexer": "ipython3",
   "version": "3.11.0"
  },
  "orig_nbformat": 4,
  "vscode": {
   "interpreter": {
    "hash": "d77ef924f8ad6fc8c56e5c39c18b702d3a67279bc80c0560c32d37a92ef9e6a7"
   }
  }
 },
 "nbformat": 4,
 "nbformat_minor": 2
}
