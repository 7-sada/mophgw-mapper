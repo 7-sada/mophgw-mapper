{
 "cells": [
  {
   "cell_type": "code",
   "execution_count": 13,
   "metadata": {},
   "outputs": [],
   "source": [
    "from helper import *\n",
    "import sys"
   ]
  },
  {
   "cell_type": "code",
   "execution_count": 14,
   "metadata": {},
   "outputs": [],
   "source": [
    "with open(\"./credentials.json\") as r:\n",
    "    config = json.loads(r.read())\n",
    "minio_config = dict(\n",
    "    key=config[\"accessKey\"],\n",
    "    secret=config[\"secretKey\"],\n",
    "    client_kwargs={\n",
    "        'endpoint_url': config[\"url\"]\n",
    "    }\n",
    ")\n",
    "\n",
    "with open(\"./api_config.json\") as r:\n",
    "    config = json.loads(r.read())\n",
    "api_config = dict(\n",
    "    url=config[\"url\"],\n",
    "    token=config[\"token\"],\n",
    ")\n"
   ]
  },
  {
   "cell_type": "code",
   "execution_count": 15,
   "metadata": {},
   "outputs": [],
   "source": [
    "url = api_config[\"url\"]\n",
    "token = api_config[\"token\"]\n",
    "headers = {\"Authorization\": \"Bearer \" + token}\n",
    "topic = \"service_ipd\"\n",
    "api_config[\"headers\"] = headers\n",
    "api_config[\"topic\"] = topic\n",
    "\n",
    "try:\n",
    "  r = get_process(**api_config)\n",
    "except Exception as ex:\n",
    "  print(ex)\n",
    "  sys.exit(0)\n",
    "\n",
    "## set config to processing \n",
    "hospcode = r[\"hospcode\"]\n",
    "process_id = r[\"process_id\"]\n",
    "api_config[\"process_id\"] = process_id\n",
    "source_path = \"s3://mophgw/{}\".format(r[\"path\"])\n",
    "destination_path = \"s3://phr/hisgw/{}/{}/{}\".format(hospcode, topic,process_id)\n",
    "local_code_path = \"s3://mapcode/{}/localcode\".format(hospcode)\n",
    "std_code_path = \"s3://mapcode/{}/stdcode\".format(hospcode)"
   ]
  },
  {
   "cell_type": "code",
   "execution_count": 16,
   "metadata": {},
   "outputs": [],
   "source": [
    "person = read_csv(minio_config, path=source_path, filename=\"person.csv.gz\")"
   ]
  },
  {
   "cell_type": "code",
   "execution_count": 17,
   "metadata": {},
   "outputs": [],
   "source": [
    "person_merge_local = dict(\n",
    "    title=[\"title_code\", \"code\"],\n",
    "    gender=[\"gender\", \"code\"],\n",
    "    rh_blood_group=[\"rh_blood_group\", \"code\"],\n",
    "    blood_group=[\"blood_group\", \"code\"],\n",
    "    nationality=[\"nationality_code\", \"code\"],\n",
    "    marital_status=[\"marital_status\", \"code\"],\n",
    ")\n",
    "person = merge_codes(minio_config, person, local_code_path,\n",
    "                     prefix_type=\"local\", merge_config=person_merge_local)"
   ]
  },
  {
   "cell_type": "code",
   "execution_count": 18,
   "metadata": {},
   "outputs": [],
   "source": [
    "person_merge_std = dict(\n",
    "    titles=[\"title_localcode\", \"localcode\"],\n",
    "    genders=[\"gender_localcode\", \"localcode\"],\n",
    "    rh_blood_groups=[\"rh_blood_group_localcode\", \"localcode\"],\n",
    "    blood_groups=[\"blood_group_localcode\", \"localcode\"],\n",
    "    nationalities=[\"nationality_localcode\", \"localcode\"],\n",
    "    marital_statuses=[\"marital_status_localcode\", \"localcode\"],\n",
    ")\n",
    "person = merge_codes(minio_config, person, std_code_path,\n",
    "                     prefix_type=\"std\", merge_config=person_merge_std)"
   ]
  },
  {
   "cell_type": "code",
   "execution_count": 19,
   "metadata": {},
   "outputs": [],
   "source": [
    "cols_rename = dict(\n",
    "    group=\"groups\",\n",
    "    nationality=\"nationalities\",\n",
    "    status=\"statuses\",\n",
    "    gender=\"genders\",\n",
    "    title=\"titles\"\n",
    ")\n",
    "person = rename_columns(person, cols_rename)"
   ]
  },
  {
   "cell_type": "code",
   "execution_count": 20,
   "metadata": {},
   "outputs": [
    {
     "data": {
      "text/html": [
       "<div>\n",
       "<style scoped>\n",
       "    .dataframe tbody tr th:only-of-type {\n",
       "        vertical-align: middle;\n",
       "    }\n",
       "\n",
       "    .dataframe tbody tr th {\n",
       "        vertical-align: top;\n",
       "    }\n",
       "\n",
       "    .dataframe thead th {\n",
       "        text-align: right;\n",
       "    }\n",
       "</style>\n",
       "<table border=\"1\" class=\"dataframe\">\n",
       "  <thead>\n",
       "    <tr style=\"text-align: right;\">\n",
       "      <th></th>\n",
       "      <th>hn</th>\n",
       "      <th>vn</th>\n",
       "      <th>an</th>\n",
       "      <th>visit_date</th>\n",
       "      <th>visit_time</th>\n",
       "      <th>admit_date</th>\n",
       "      <th>admit_time</th>\n",
       "      <th>discharge_date</th>\n",
       "      <th>discharge_time</th>\n",
       "      <th>discharge_reason</th>\n",
       "      <th>dchtype</th>\n",
       "    </tr>\n",
       "  </thead>\n",
       "  <tbody>\n",
       "    <tr>\n",
       "      <th>0</th>\n",
       "      <td>000275351</td>\n",
       "      <td>650729193526</td>\n",
       "      <td>650729193526</td>\n",
       "      <td>2022-07-28T17:00:00.000Z</td>\n",
       "      <td>19:35:26</td>\n",
       "      <td>2022-07-28T17:00:00.000Z</td>\n",
       "      <td>20:33:00</td>\n",
       "      <td>2022-11-24T17:00:00.000Z</td>\n",
       "      <td>00:30:00</td>\n",
       "      <td>By Transfer</td>\n",
       "      <td>04</td>\n",
       "    </tr>\n",
       "    <tr>\n",
       "      <th>1</th>\n",
       "      <td>000344731</td>\n",
       "      <td>650716093931</td>\n",
       "      <td>650716093931</td>\n",
       "      <td>2022-07-15T17:00:00.000Z</td>\n",
       "      <td>09:39:31</td>\n",
       "      <td>2022-07-15T17:00:00.000Z</td>\n",
       "      <td>10:33:00</td>\n",
       "      <td>2022-11-24T17:00:00.000Z</td>\n",
       "      <td>03:00:00</td>\n",
       "      <td>Dead Non Autopsy</td>\n",
       "      <td>09</td>\n",
       "    </tr>\n",
       "  </tbody>\n",
       "</table>\n",
       "</div>"
      ],
      "text/plain": [
       "          hn            vn            an                visit_date visit_time                admit_date admit_time            discharge_date discharge_time  discharge_reason dchtype\n",
       "0  000275351  650729193526  650729193526  2022-07-28T17:00:00.000Z   19:35:26  2022-07-28T17:00:00.000Z   20:33:00  2022-11-24T17:00:00.000Z       00:30:00       By Transfer      04\n",
       "1  000344731  650716093931  650716093931  2022-07-15T17:00:00.000Z   09:39:31  2022-07-15T17:00:00.000Z   10:33:00  2022-11-24T17:00:00.000Z       03:00:00  Dead Non Autopsy      09"
      ]
     },
     "metadata": {},
     "output_type": "display_data"
    }
   ],
   "source": [
    "service_ipd = read_csv(\n",
    "    minio_config, path=source_path, filename=\"service_ipd.csv.gz\")\n",
    "\n",
    "display(service_ipd)"
   ]
  }
 ],
 "metadata": {
  "kernelspec": {
   "display_name": "Python 3.10.7 64-bit",
   "language": "python",
   "name": "python3"
  },
  "language_info": {
   "codemirror_mode": {
    "name": "ipython",
    "version": 3
   },
   "file_extension": ".py",
   "mimetype": "text/x-python",
   "name": "python",
   "nbconvert_exporter": "python",
   "pygments_lexer": "ipython3",
   "version": "3.10.7"
  },
  "orig_nbformat": 4,
  "vscode": {
   "interpreter": {
    "hash": "369f2c481f4da34e4445cda3fffd2e751bd1c4d706f27375911949ba6bb62e1c"
   }
  }
 },
 "nbformat": 4,
 "nbformat_minor": 2
}
