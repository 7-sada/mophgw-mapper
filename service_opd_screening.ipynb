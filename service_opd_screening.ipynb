{
 "cells": [
  {
   "cell_type": "markdown",
   "metadata": {},
   "source": [
    "## load library"
   ]
  },
  {
   "cell_type": "code",
   "execution_count": null,
   "metadata": {},
   "outputs": [],
   "source": [
    "from helper import *\n",
    "import sys"
   ]
  },
  {
   "cell_type": "markdown",
   "metadata": {},
   "source": [
    "## load config"
   ]
  },
  {
   "cell_type": "code",
   "execution_count": null,
   "metadata": {},
   "outputs": [],
   "source": [
    "with open(\"./credentials.json\") as r:\n",
    "    config = json.loads(r.read())\n",
    "minio_config = dict(\n",
    "    key=config[\"accessKey\"],\n",
    "    secret=config[\"secretKey\"],\n",
    "    client_kwargs={\n",
    "        'endpoint_url': config[\"url\"]\n",
    "    }\n",
    ")\n",
    "\n",
    "with open(\"./api_config.json\") as r:\n",
    "    config = json.loads(r.read())\n",
    "api_config = dict(\n",
    "    url=config[\"url\"],\n",
    "    token=config[\"token\"],\n",
    ")\n",
    "\n",
    "# display(minio_config.__len__())\n",
    "# display(minio_config)"
   ]
  },
  {
   "cell_type": "markdown",
   "metadata": {},
   "source": [
    "## set variables"
   ]
  },
  {
   "cell_type": "code",
   "execution_count": null,
   "metadata": {},
   "outputs": [],
   "source": [
    "## set api_config variables\n",
    "url = api_config[\"url\"]\n",
    "token = api_config[\"token\"]\n",
    "headers = {\"Authorization\": \"Bearer \" + token}\n",
    "topic = \"service_opd_screening\"\n",
    "api_config[\"headers\"] = headers\n",
    "api_config[\"topic\"] = topic\n",
    "\n",
    "try:\n",
    "  r = get_process(**api_config)\n",
    "except Exception as ex:\n",
    "  print(ex)\n",
    "  sys.exit(0)\n",
    "\n",
    "## set config to processing \n",
    "hospcode = r[\"hospcode\"]\n",
    "process_id = r[\"process_id\"]\n",
    "api_config[\"process_id\"] = process_id\n",
    "source_path = \"s3://mophgw/{}\".format(r[\"path\"])\n",
    "destination_path = \"s3://phr/hisgw/{}/{}/{}\".format(hospcode, topic,process_id)\n",
    "local_code_path = \"s3://mapcode/{}/localcode\".format(hospcode)\n",
    "std_code_path = \"s3://mapcode/{}/stdcode\".format(hospcode)\n",
    "\n",
    "# display(r.__len__())\n",
    "# display(r)\n"
   ]
  },
  {
   "cell_type": "markdown",
   "metadata": {},
   "source": [
    "## load stdcode hospital"
   ]
  },
  {
   "cell_type": "code",
   "execution_count": null,
   "metadata": {},
   "outputs": [],
   "source": [
    "hospital = pd.read_csv(f\"{std_code_path}/\", engine=\"c\",\n",
    "                       dtype=pd.StringDtype(), storage_options=minio_config)\n"
   ]
  },
  {
   "cell_type": "markdown",
   "metadata": {},
   "source": [
    "## load person"
   ]
  },
  {
   "cell_type": "code",
   "execution_count": null,
   "metadata": {},
   "outputs": [],
   "source": [
    "person = read_csv(minio_config, path=source_path, filename=\"person.csv.gz\")\n",
    "\n",
    "# display(person.__len__())\n",
    "# display(person)"
   ]
  },
  {
   "cell_type": "markdown",
   "metadata": {},
   "source": [
    "## merge localcode to person"
   ]
  },
  {
   "cell_type": "code",
   "execution_count": null,
   "metadata": {},
   "outputs": [],
   "source": [
    "person_merge_local = dict(\n",
    "    title=[\"title_code\", \"code\"],\n",
    "    gender=[\"gender\", \"code\"],\n",
    "    rh_blood_group=[\"rh_blood_group\", \"code\"],\n",
    "    blood_group=[\"blood_group\", \"code\"],\n",
    "    nationality=[\"nationality_code\", \"code\"],\n",
    "    marital_status=[\"marital_status\", \"code\"],\n",
    ")\n",
    "person = merge_codes(minio_config, person, local_code_path,\n",
    "                     prefix_type=\"local\", merge_config=person_merge_local)\n",
    "\n",
    "# display(person.__len__())\n",
    "# display(person)"
   ]
  },
  {
   "cell_type": "markdown",
   "metadata": {},
   "source": [
    "## merge stdcode to person"
   ]
  },
  {
   "cell_type": "code",
   "execution_count": null,
   "metadata": {},
   "outputs": [],
   "source": [
    "person_merge_std = dict(\n",
    "    titles=[\"title_localcode\", \"localcode\"],\n",
    "    genders=[\"gender_localcode\", \"localcode\"],\n",
    "    rh_blood_groups=[\"rh_blood_group_localcode\", \"localcode\"],\n",
    "    blood_groups=[\"blood_group_localcode\", \"localcode\"],\n",
    "    nationalities=[\"nationality_localcode\", \"localcode\"],\n",
    "    marital_statuses=[\"marital_status_localcode\", \"localcode\"],\n",
    ")\n",
    "person = merge_codes(minio_config, person, std_code_path,\n",
    "                     prefix_type=\"std\", merge_config=person_merge_std)\n",
    "# person = person.drop_duplicates(subset=[\"hn\"])\n",
    "\n",
    "# display(person.__len__())\n",
    "# display(person)"
   ]
  },
  {
   "cell_type": "markdown",
   "metadata": {},
   "source": [
    "## rename columns person"
   ]
  },
  {
   "cell_type": "code",
   "execution_count": null,
   "metadata": {},
   "outputs": [],
   "source": [
    "cols_rename = dict(\n",
    "    group=\"groups\",\n",
    "    nationality=\"nationalities\",\n",
    "    status=\"statuses\",\n",
    "    gender=\"genders\",\n",
    "    title=\"titles\"\n",
    ")\n",
    "person = rename_columns(person, cols_rename)\n",
    "\n",
    "# display(person.__len__())\n",
    "# display(person)"
   ]
  },
  {
   "cell_type": "markdown",
   "metadata": {},
   "source": [
    "## load service_opd"
   ]
  },
  {
   "cell_type": "code",
   "execution_count": null,
   "metadata": {},
   "outputs": [],
   "source": [
    "service_opd = read_csv(\n",
    "    minio_config, path=source_path, filename=\"service_opd.csv.gz\")\n",
    "\n",
    "# try:\n",
    "#     service_opd = read_csv(\n",
    "#         minio_config, path=source_path, filename=\"service_opd.csv.gz\")\n",
    "# except Exception as ex:\n",
    "#     print(ex)\n",
    "\n",
    "# display(service_opd.__len__())\n",
    "# display(service_opd)"
   ]
  },
  {
   "cell_type": "markdown",
   "metadata": {},
   "source": [
    "## merge local service_opd"
   ]
  },
  {
   "cell_type": "code",
   "execution_count": null,
   "metadata": {},
   "outputs": [],
   "source": [
    "service_opd_merge_local = dict(\n",
    "    main_department=[\"main_department\", \"code\"],\n",
    "    sub_department=[\"sub_department\", \"code\"],\n",
    ")\n",
    "service_opd = merge_codes(minio_config, service_opd, local_code_path,\n",
    "                     prefix_type=\"local\", merge_config=service_opd_merge_local)\n",
    "\n",
    "# display(service_opd.__len__())\n",
    "# display(service_opd)"
   ]
  },
  {
   "cell_type": "markdown",
   "metadata": {},
   "source": [
    "## merge std service_opd"
   ]
  },
  {
   "cell_type": "code",
   "execution_count": null,
   "metadata": {},
   "outputs": [],
   "source": [
    "service_opd_merge_std = dict(\n",
    "    main_departments_opd=[\"main_department\", \"localcode\"],\n",
    "    # sub_department=[\"sub_department\", \"code\"],\n",
    ")\n",
    "service_opd = merge_codes(minio_config, service_opd, std_code_path,\n",
    "                          prefix_type=\"std\", merge_config=service_opd_merge_std)\n",
    "\n",
    "# display(service_opd.__len__())\n",
    "# display(service_opd)"
   ]
  },
  {
   "cell_type": "markdown",
   "metadata": {},
   "source": [
    "## rename service_opd columns"
   ]
  },
  {
   "cell_type": "code",
   "execution_count": null,
   "metadata": {},
   "outputs": [],
   "source": [
    "cols_rename = dict(\n",
    "    department = \"departments_opd\",\n",
    ")\n",
    "service_opd = rename_columns(service_opd, cols_rename)\n",
    "\n",
    "# display(service_opd.__len__())\n",
    "# display(service_opd)"
   ]
  },
  {
   "cell_type": "markdown",
   "metadata": {},
   "source": [
    "## load service_opd_screening\n",
    "- ไม่มี localcode && stdcode"
   ]
  },
  {
   "cell_type": "code",
   "execution_count": null,
   "metadata": {},
   "outputs": [],
   "source": [
    "service_opd_screening = read_csv(minio_config, path=source_path, filename=\"service_opd_screening.csv.gz\")\n",
    "\n",
    "# display(service_opd_screening.__len__())\n",
    "# display(service_opd_screening)"
   ]
  },
  {
   "cell_type": "markdown",
   "metadata": {},
   "source": [
    "## merge localcode to service_opd_screening"
   ]
  },
  {
   "cell_type": "code",
   "execution_count": null,
   "metadata": {},
   "outputs": [],
   "source": [
    "## service_opd_screening doesn,t have localcode"
   ]
  },
  {
   "cell_type": "markdown",
   "metadata": {},
   "source": [
    "## merge stdcode to service_opd_screening"
   ]
  },
  {
   "cell_type": "code",
   "execution_count": null,
   "metadata": {},
   "outputs": [],
   "source": [
    "# service_opd_screening doesn,t have stdcode"
   ]
  },
  {
   "cell_type": "markdown",
   "metadata": {},
   "source": [
    "## merge service_opd_screeing to service_opd"
   ]
  },
  {
   "cell_type": "code",
   "execution_count": null,
   "metadata": {},
   "outputs": [],
   "source": [
    "service_opd_screening = pd.merge(service_opd_screening, service_opd, how=\"left\", left_on=\"vn\", right_on=\"vn\", suffixes=(\"\", \"_right\"))\n",
    "service_opd_screening = service_opd_screening[[a for a in service_opd_screening.columns.to_list() if a.endswith(\"_right\")==False]]\n",
    "\n",
    "# display(service_opd_screening.__len__())\n",
    "# display(service_opd_screening)"
   ]
  },
  {
   "cell_type": "markdown",
   "metadata": {},
   "source": [
    "## merge person to service_opd_screening"
   ]
  },
  {
   "cell_type": "code",
   "execution_count": null,
   "metadata": {},
   "outputs": [],
   "source": [
    "service_opd_screening = pd.merge(\n",
    "    service_opd_screening, person, how=\"left\", left_on=\"hn\", right_on=\"hn\", suffixes=(\"\", \"_right\"))\n",
    "service_opd_screening = service_opd_screening[[\n",
    "    a for a in service_opd_screening.columns.to_list() if a.endswith(\"_right\") == False]]\n",
    "\n",
    "# display(service_opd_screening.__len__())\n",
    "display(service_opd_screening)"
   ]
  },
  {
   "cell_type": "markdown",
   "metadata": {},
   "source": [
    "## set export status variable\n",
    "- ใช้ตรวจสอบสถานะการ export package สำหรับส่งไปยัง minio"
   ]
  },
  {
   "cell_type": "code",
   "execution_count": null,
   "metadata": {},
   "outputs": [],
   "source": [
    "is_success = dict(\n",
    "  person_telephone = False,\n",
    "  person = False,\n",
    "  person_death = False,\n",
    "  service_opd = False,\n",
    "  service_opd_screening = False\n",
    ")"
   ]
  },
  {
   "cell_type": "markdown",
   "metadata": {},
   "source": [
    "## export to person_telephone"
   ]
  },
  {
   "cell_type": "code",
   "execution_count": null,
   "metadata": {},
   "outputs": [],
   "source": [
    "# person_telephone = set_package(service_opd_screening, [\"cid\"], [\"telephone\", \"type\", \"ext\"])\n",
    "person_telephone = dict()\n",
    "person_telephone[\"cid\"] = service_opd_screening[\"cid\"]\n",
    "person_telephone[\"telephone\"] = \"\"\n",
    "person_telephone[\"type\"] = \"\"\n",
    "person_telephone[\"ext\"] = \"\"\n",
    "\n",
    "person_telephone = pd.DataFrame(person_telephone)\n",
    "is_success[\"person_telephone\"] = upload_minio(\n",
    "    minio_config, person_telephone, f\"{destination_path}/person_telephone.csv.gz\", **api_config)\n",
    "\n",
    "# display(service_opd_screening.__len__())\n",
    "# display(person_telephone)"
   ]
  },
  {
   "cell_type": "code",
   "execution_count": null,
   "metadata": {},
   "outputs": [],
   "source": [
    "display(person)"
   ]
  },
  {
   "cell_type": "markdown",
   "metadata": {},
   "source": [
    "## export to person"
   ]
  },
  {
   "cell_type": "code",
   "execution_count": null,
   "metadata": {},
   "outputs": [],
   "source": [
    "# person = set_package(service_opd_screening, [\"cid\", \"birhtdate\",\"gender_code\",\"gender_name\",\"rh_blood_group_code\",\"rh_blood_group_name\",\"blood_group_code\",\"blood_group_name\",\"title_code\",\"title_name\",\"first_name\",\"middle_name\",\"last_name\",\"nationality_code\",\"nationality_name\",\"marital_status_code\",\"marital_status_name\"], [])\n",
    "# is_success[\"person_telephone\"] = upload_minio(\n",
    "#     minio_config, person_telephone, f\"{destination_path}/person.csv.gz\", **api_config)\n",
    "\n",
    "person = dict()\n",
    "person[\"cid\"] = service_opd_screening[\"cid\"]\n",
    "person[\"birthdate\"] = service_opd_screening[\"birthdate\"]\n",
    "person[\"gender_code\"] = service_opd_screening[\"gender_stdcode\"]\n",
    "person[\"gender_name\"] = service_opd_screening[\"gender_stdname_th\"]\n",
    "person[\"rh_blood_group_code\"] = service_opd_screening[\"rh_blood_group_stdcode\"]\n",
    "person[\"rh_blood_group_name\"] = service_opd_screening[\"rh_blood_group_stdname_th\"]\n",
    "person[\"blood_group_code\"] = service_opd_screening[\"blood_group_stdcode\"]\n",
    "person[\"blood_group_name\"] = service_opd_screening[\"blood_group_stdname_th\"]\n",
    "person[\"title_code\"] = service_opd_screening[\"title_stdcode\"]\n",
    "person[\"title_name\"] = service_opd_screening[\"title_stdname_th\"]\n",
    "person[\"first_name\"] = service_opd_screening[\"first_name\"]\n",
    "person[\"middle_name\"] = service_opd_screening[\"middle_name\"]\n",
    "person[\"last_name\"] = service_opd_screening[\"last_name\"]\n",
    "person[\"nationality_code\"] = service_opd_screening[\"nationality_stdcode\"]\n",
    "person[\"nationality_name\"] = service_opd_screening[\"nationality_stdname_th\"]\n",
    "person[\"marital_status_code\"] = service_opd_screening[\"marital_status_stdcode\"]\n",
    "person[\"marital_status_name\"] = service_opd_screening[\"marital_status_stdname_th\"]\n",
    "person = pd.DataFrame(person)\n",
    "\n",
    "is_success[\"person\"] = upload_minio(\n",
    "    minio_config, person, f\"{destination_path}/person.csv.gz\", **api_config)\n",
    "\n",
    "# display(person.__len__())\n",
    "# display(person)"
   ]
  },
  {
   "cell_type": "markdown",
   "metadata": {},
   "source": [
    "## export to person_death "
   ]
  },
  {
   "cell_type": "code",
   "execution_count": null,
   "metadata": {},
   "outputs": [],
   "source": [
    "person_death = dict()\n",
    "person_death[\"cid\"] = service_opd_screening[\"cid\"]\n",
    "person_death[\"date_of_death\"] = \"\"\n",
    "person_death[\"cause_of_death\"] = \"\"\n",
    "person_death[\"place_of_death\"] = \"\"\n",
    "person_death = pd.DataFrame(person_death)\n",
    "\n",
    "is_success[\"person_death\"] = upload_minio(\n",
    "    minio_config, person_death, f\"{destination_path}/person_death.csv.gz\", **api_config)\n",
    "\n",
    "# display(person_death.__len__())\n",
    "# display(person_death)"
   ]
  },
  {
   "cell_type": "markdown",
   "metadata": {},
   "source": [
    "## export to service_opd"
   ]
  },
  {
   "cell_type": "code",
   "execution_count": null,
   "metadata": {},
   "outputs": [],
   "source": [
    "service_opd = dict()\n",
    "service_opd[\"hospcode\"] = hospcode\n",
    "service_opd[\"hospname\"] = hospcode"
   ]
  },
  {
   "cell_type": "markdown",
   "metadata": {},
   "source": [
    "## export to service_opd_screening"
   ]
  },
  {
   "cell_type": "code",
   "execution_count": null,
   "metadata": {},
   "outputs": [],
   "source": []
  },
  {
   "cell_type": "markdown",
   "metadata": {},
   "source": [
    "## export to service_opd_diagnosis\n"
   ]
  },
  {
   "cell_type": "code",
   "execution_count": null,
   "metadata": {},
   "outputs": [],
   "source": []
  },
  {
   "cell_type": "markdown",
   "metadata": {},
   "source": [
    "## export to service_opd_drugs\n"
   ]
  },
  {
   "cell_type": "code",
   "execution_count": null,
   "metadata": {},
   "outputs": [],
   "source": []
  },
  {
   "cell_type": "markdown",
   "metadata": {},
   "source": [
    "## export to service_appointment"
   ]
  },
  {
   "cell_type": "code",
   "execution_count": null,
   "metadata": {},
   "outputs": [],
   "source": []
  },
  {
   "cell_type": "markdown",
   "metadata": {},
   "source": [
    "## export to service_ipd"
   ]
  },
  {
   "cell_type": "code",
   "execution_count": null,
   "metadata": {},
   "outputs": [],
   "source": []
  },
  {
   "cell_type": "markdown",
   "metadata": {},
   "source": [
    "## service_ipd_diagnosis"
   ]
  },
  {
   "cell_type": "code",
   "execution_count": null,
   "metadata": {},
   "outputs": [],
   "source": []
  },
  {
   "cell_type": "markdown",
   "metadata": {},
   "source": [
    "## service_ipd_drugs"
   ]
  },
  {
   "cell_type": "code",
   "execution_count": null,
   "metadata": {},
   "outputs": [],
   "source": []
  },
  {
   "cell_type": "markdown",
   "metadata": {},
   "source": [
    "## summary success"
   ]
  },
  {
   "cell_type": "code",
   "execution_count": null,
   "metadata": {},
   "outputs": [],
   "source": [
    "is_success = dict(\n",
    "    person_telephone=False,\n",
    "    person=False,\n",
    "    person_death=False,\n",
    "    service_opd=False,\n",
    "    service_opd_screening=False\n",
    ")\n",
    "\n",
    "if list(is_success.values()).count(False)>0:\n",
    "  print(\"ERROR\")\n",
    "else:\n",
    "  print(\"SUCCESS\")\n",
    "\n",
    "# display(is_success.__len__())\n",
    "display(is_success)\n"
   ]
  },
  {
   "cell_type": "code",
   "execution_count": null,
   "metadata": {},
   "outputs": [],
   "source": []
  }
 ],
 "metadata": {
  "kernelspec": {
   "display_name": "Python 3.11.0 64-bit",
   "language": "python",
   "name": "python3"
  },
  "language_info": {
   "codemirror_mode": {
    "name": "ipython",
    "version": 3
   },
   "file_extension": ".py",
   "mimetype": "text/x-python",
   "name": "python",
   "nbconvert_exporter": "python",
   "pygments_lexer": "ipython3",
   "version": "3.11.0"
  },
  "orig_nbformat": 4,
  "vscode": {
   "interpreter": {
    "hash": "d77ef924f8ad6fc8c56e5c39c18b702d3a67279bc80c0560c32d37a92ef9e6a7"
   }
  }
 },
 "nbformat": 4,
 "nbformat_minor": 2
}
